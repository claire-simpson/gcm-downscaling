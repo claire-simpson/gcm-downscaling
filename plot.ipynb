{
 "cells": [
  {
   "cell_type": "code",
   "execution_count": null,
   "id": "a675e118-a585-4142-bc6c-947269625646",
   "metadata": {},
   "outputs": [],
   "source": [
    "import os\n",
    "\n",
    "import numpy\n",
    "import pandas\n",
    "import seaborn\n",
    "import xarray\n",
    "\n",
    "from src import knn"
   ]
  },
  {
   "cell_type": "code",
   "execution_count": null,
   "id": "1b4f84eb-b119-48fd-9888-0240a56904ec",
   "metadata": {},
   "outputs": [],
   "source": [
    "seaborn.set()\n",
    "figsize = (12, 5)"
   ]
  },
  {
   "cell_type": "code",
   "execution_count": null,
   "id": "de10c473-6331-47ce-b50b-7b6d28f91e00",
   "metadata": {},
   "outputs": [],
   "source": [
    "data = pandas.read_csv('bootstrapped_dates.csv', index_col=0)"
   ]
  },
  {
   "cell_type": "code",
   "execution_count": null,
   "id": "86b03c52-b1c9-42d0-a90a-95ba8200a7f2",
   "metadata": {},
   "outputs": [],
   "source": [
    "future_ds_path = os.path.join(knn.DATA_STORE_PATH, 'GCMs/Amazon__pr_day_CanESM5_ssp126_r1i1p1f1_gn_20150101-21001231.nc')"
   ]
  },
  {
   "cell_type": "code",
   "execution_count": null,
   "id": "f831e28e-c8bf-4284-9663-c9accc3ad7a4",
   "metadata": {},
   "outputs": [],
   "source": [
    "observed_location = os.path.join(knn.DATA_STORE_PATH, 'OBSERVATIONS/LLdM_AOI2/catalogo.csv')\n",
    "locations = pandas.read_csv(observed_location)\n",
    "lon, lat = locations[locations['CODIGO_CAT'] == 'Beni01'][['longitud', 'latitud']].values[0]"
   ]
  },
  {
   "cell_type": "code",
   "execution_count": null,
   "id": "2cc73776-8d6f-4285-a2c2-ca4402f1adc5",
   "metadata": {},
   "outputs": [],
   "source": [
    "gcm = xarray.open_dataset(future_ds_path)\n",
    "gcm = knn.shift_longitude_from_360(gcm)\n",
    "gcm = gcm.sel(lon=lon, lat=lat, method='nearest')"
   ]
  },
  {
   "cell_type": "code",
   "execution_count": null,
   "id": "798707fe-868d-49aa-9641-e3a8d1666d79",
   "metadata": {},
   "outputs": [],
   "source": [
    "start_date = data.index.min()\n",
    "end_date = data.index.max()"
   ]
  },
  {
   "cell_type": "code",
   "execution_count": null,
   "id": "154bb29b-e0a9-4bfd-be59-ac917639eb99",
   "metadata": {},
   "outputs": [],
   "source": [
    "gcm = gcm.sel(time=slice(start_date, end_date))"
   ]
  },
  {
   "cell_type": "code",
   "execution_count": null,
   "id": "f987aa34-4088-409f-95b5-0cd6e78e8340",
   "metadata": {},
   "outputs": [],
   "source": [
    "gcm_precip = gcm.pr.to_numpy() * (60 * 60 * 24)\n",
    "data['gcm_precip'] = gcm_precip"
   ]
  },
  {
   "cell_type": "code",
   "execution_count": null,
   "id": "ec946925-f9c5-453d-ae6b-e1066afada74",
   "metadata": {},
   "outputs": [],
   "source": [
    "data[['historic_precip', 'gcm_precip']].plot(\n",
    "    # ylim=(0, 1000),\n",
    "    figsize=figsize)"
   ]
  },
  {
   "cell_type": "code",
   "execution_count": null,
   "id": "5ce94975-ffe2-45c3-be12-0ac25193f34b",
   "metadata": {},
   "outputs": [],
   "source": []
  }
 ],
 "metadata": {
  "kernelspec": {
   "display_name": "Python 3 (ipykernel)",
   "language": "python",
   "name": "python3"
  },
  "language_info": {
   "codemirror_mode": {
    "name": "ipython",
    "version": 3
   },
   "file_extension": ".py",
   "mimetype": "text/x-python",
   "name": "python",
   "nbconvert_exporter": "python",
   "pygments_lexer": "ipython3",
   "version": "3.10.6"
  }
 },
 "nbformat": 4,
 "nbformat_minor": 5
}

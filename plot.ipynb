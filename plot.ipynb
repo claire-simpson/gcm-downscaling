{
 "cells": [
  {
   "cell_type": "code",
   "execution_count": null,
   "id": "a675e118-a585-4142-bc6c-947269625646",
   "metadata": {},
   "outputs": [],
   "source": [
    "import os\n",
    "\n",
    "import numpy\n",
    "import pandas\n",
    "import seaborn\n",
    "import xarray\n",
    "\n",
    "from src import knn"
   ]
  },
  {
   "cell_type": "code",
   "execution_count": null,
   "id": "1b4f84eb-b119-48fd-9888-0240a56904ec",
   "metadata": {},
   "outputs": [],
   "source": [
    "seaborn.set()\n",
    "figsize = (18, 5)"
   ]
  },
  {
   "cell_type": "code",
   "execution_count": null,
   "id": "de10c473-6331-47ce-b50b-7b6d28f91e00",
   "metadata": {},
   "outputs": [],
   "source": [
    "data = pandas.read_csv('bootstrapped_dates.csv', parse_dates={'date': [0]})\n",
    "data.set_index('date', inplace=True)"
   ]
  },
  {
   "cell_type": "code",
   "execution_count": null,
   "id": "44048e03-9df7-41e0-adcb-d440b1708c57",
   "metadata": {},
   "outputs": [],
   "source": [
    "data"
   ]
  },
  {
   "cell_type": "code",
   "execution_count": null,
   "id": "86b03c52-b1c9-42d0-a90a-95ba8200a7f2",
   "metadata": {},
   "outputs": [],
   "source": [
    "future_ds_path = os.path.join(knn.DATA_STORE_PATH, 'GCMs/Amazon__pr_day_CanESM5_ssp126_r1i1p1f1_gn_20150101-21001231.nc')"
   ]
  },
  {
   "cell_type": "code",
   "execution_count": null,
   "id": "f831e28e-c8bf-4284-9663-c9accc3ad7a4",
   "metadata": {},
   "outputs": [],
   "source": [
    "observed_location = os.path.join(knn.DATA_STORE_PATH, 'OBSERVATIONS/LLdM_AOI2/catalogo.csv')\n",
    "locations = pandas.read_csv(observed_location)\n",
    "lon, lat = locations[locations['CODIGO_CAT'] == 'Beni01'][['longitud', 'latitud']].values[0]"
   ]
  },
  {
   "cell_type": "code",
   "execution_count": null,
   "id": "2cc73776-8d6f-4285-a2c2-ca4402f1adc5",
   "metadata": {},
   "outputs": [],
   "source": [
    "gcm = xarray.open_dataset(future_ds_path)\n",
    "gcm = knn.shift_longitude_from_360(gcm)\n",
    "gcm = gcm.sel(lon=lon, lat=lat, method='nearest')"
   ]
  },
  {
   "cell_type": "code",
   "execution_count": null,
   "id": "798707fe-868d-49aa-9641-e3a8d1666d79",
   "metadata": {},
   "outputs": [],
   "source": [
    "start_date = data.index.min()\n",
    "end_date = data.index.max()"
   ]
  },
  {
   "cell_type": "code",
   "execution_count": null,
   "id": "154bb29b-e0a9-4bfd-be59-ac917639eb99",
   "metadata": {},
   "outputs": [],
   "source": [
    "gcm = gcm.sel(time=slice(start_date, end_date))"
   ]
  },
  {
   "cell_type": "code",
   "execution_count": null,
   "id": "f987aa34-4088-409f-95b5-0cd6e78e8340",
   "metadata": {},
   "outputs": [],
   "source": [
    "gcm_precip = gcm.pr.to_numpy() * (60 * 60 * 24)\n",
    "data['gcm_precip'] = gcm_precip"
   ]
  },
  {
   "cell_type": "code",
   "execution_count": null,
   "id": "5ce94975-ffe2-45c3-be12-0ac25193f34b",
   "metadata": {},
   "outputs": [],
   "source": [
    "results_r = pandas.read_csv(\n",
    "    '../test-results/CanESM5/CanESM5_ssp126_pr_1_bootstrap.csv',\n",
    "    parse_dates={'date': ['simYear', 'simMonth', 'simDay']})\n",
    "results_r.set_index('date', inplace=True)"
   ]
  },
  {
   "cell_type": "code",
   "execution_count": null,
   "id": "87e174e1-e166-48d0-b7b6-b54db310c0f9",
   "metadata": {},
   "outputs": [],
   "source": [
    "dd = pandas.merge(data, results_r['bs_value'], left_index=True, right_index=True, how='left')"
   ]
  },
  {
   "cell_type": "code",
   "execution_count": null,
   "id": "6eeb98d8-bab4-48b6-9e34-821bc5ec2773",
   "metadata": {},
   "outputs": [],
   "source": [
    "dd.rename({\n",
    "    'historic_precip': 'python_prediction',\n",
    "    'bs_value': 'R_prediction',\n",
    "    'gcm_precip': 'GCM_prediction'\n",
    "}, axis=1, inplace=True)"
   ]
  },
  {
   "cell_type": "code",
   "execution_count": null,
   "id": "0b718c46-7280-46b4-9d6e-ece18e3eb692",
   "metadata": {},
   "outputs": [],
   "source": [
    "pal = seaborn.color_palette(\"deep\")\n",
    "dd[['python_prediction', 'R_prediction', 'GCM_prediction']].plot(\n",
    "    xlim=('2023-01-01', '2024-07-01'),\n",
    "    color=[pal[0], pal[1], pal[2]],\n",
    "    linewidth=1,\n",
    "    figsize=figsize)"
   ]
  },
  {
   "cell_type": "code",
   "execution_count": null,
   "id": "25ab210b-9b46-4655-b9d2-a478f3553300",
   "metadata": {},
   "outputs": [],
   "source": [
    "# seaborn.color_palette('deep')"
   ]
  },
  {
   "cell_type": "code",
   "execution_count": null,
   "id": "cfce2b6a-3e84-4be9-8a97-a3a93aa2302b",
   "metadata": {},
   "outputs": [],
   "source": [
    "dd['python_prediction'].hist(bins=100)"
   ]
  },
  {
   "cell_type": "code",
   "execution_count": null,
   "id": "37116611-d699-46ba-a104-8c255ffa15a7",
   "metadata": {},
   "outputs": [],
   "source": [
    "dd['R_prediction'].hist(bins=100)"
   ]
  },
  {
   "cell_type": "code",
   "execution_count": null,
   "id": "1f6f4435-afd1-4357-b564-b89dd97ba2d0",
   "metadata": {},
   "outputs": [],
   "source": []
  }
 ],
 "metadata": {
  "kernelspec": {
   "display_name": "Python 3 (ipykernel)",
   "language": "python",
   "name": "python3"
  },
  "language_info": {
   "codemirror_mode": {
    "name": "ipython",
    "version": 3
   },
   "file_extension": ".py",
   "mimetype": "text/x-python",
   "name": "python",
   "nbconvert_exporter": "python",
   "pygments_lexer": "ipython3",
   "version": "3.10.6"
  }
 },
 "nbformat": 4,
 "nbformat_minor": 5
}

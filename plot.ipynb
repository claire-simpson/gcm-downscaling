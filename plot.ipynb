{
 "cells": [
  {
   "cell_type": "code",
   "execution_count": 1,
   "id": "a675e118-a585-4142-bc6c-947269625646",
   "metadata": {},
   "outputs": [],
   "source": [
    "import glob\n",
    "import os\n",
    "\n",
    "import numpy\n",
    "import pandas\n",
    "import seaborn\n",
    "import xarray\n",
    "\n",
    "from src import knn"
   ]
  },
  {
   "cell_type": "code",
   "execution_count": 2,
   "id": "1b4f84eb-b119-48fd-9888-0240a56904ec",
   "metadata": {},
   "outputs": [],
   "source": [
    "seaborn.set()\n",
    "figsize = (18, 5)"
   ]
  },
  {
   "cell_type": "code",
   "execution_count": 7,
   "id": "0b31e2bb-70db-40fa-a93f-54f83676ffb4",
   "metadata": {},
   "outputs": [],
   "source": [
    "data_store_path = 'H://Shared drives/GCM_Climate_Tool/required_files'"
   ]
  },
  {
   "cell_type": "code",
   "execution_count": 8,
   "id": "de10c473-6331-47ce-b50b-7b6d28f91e00",
   "metadata": {},
   "outputs": [],
   "source": [
    "data = pandas.read_csv('downscaled_precip.csv', parse_dates={'date': [0]})\n",
    "data.set_index('date', inplace=True)"
   ]
  },
  {
   "cell_type": "code",
   "execution_count": 9,
   "id": "86b03c52-b1c9-42d0-a90a-95ba8200a7f2",
   "metadata": {},
   "outputs": [],
   "source": [
    "future_ds_path = glob.glob(os.path.join(data_store_path, 'GCMs/Amazon__pr_day_CESM2-WACCM_ssp126_*.nc'))[0]"
   ]
  },
  {
   "cell_type": "code",
   "execution_count": 10,
   "id": "f831e28e-c8bf-4284-9663-c9accc3ad7a4",
   "metadata": {},
   "outputs": [],
   "source": [
    "observed_location = os.path.join(data_store_path, 'OBSERVATIONS/LLdM_AOI2/catalogo.csv')\n",
    "locations = pandas.read_csv(observed_location)\n",
    "lon, lat = locations[locations['CODIGO_CAT'] == 'Beni01'][['longitud', 'latitud']].values[0]"
   ]
  },
  {
   "cell_type": "code",
   "execution_count": 11,
   "id": "2cc73776-8d6f-4285-a2c2-ca4402f1adc5",
   "metadata": {},
   "outputs": [],
   "source": [
    "gcm = xarray.open_dataset(future_ds_path)\n",
    "gcm = knn.shift_longitude_from_360(gcm)\n",
    "gcm = gcm.sel(lon=lon, lat=lat, method='nearest')"
   ]
  },
  {
   "cell_type": "code",
   "execution_count": 12,
   "id": "798707fe-868d-49aa-9641-e3a8d1666d79",
   "metadata": {},
   "outputs": [],
   "source": [
    "start_date = data.index.min()\n",
    "end_date = data.index.max()"
   ]
  },
  {
   "cell_type": "code",
   "execution_count": 13,
   "id": "154bb29b-e0a9-4bfd-be59-ac917639eb99",
   "metadata": {},
   "outputs": [],
   "source": [
    "gcm = gcm.sel(time=slice(start_date, end_date))"
   ]
  },
  {
   "cell_type": "code",
   "execution_count": 14,
   "id": "f987aa34-4088-409f-95b5-0cd6e78e8340",
   "metadata": {},
   "outputs": [
    {
     "ename": "ValueError",
     "evalue": "Length of values (732) does not match length of index (731)",
     "output_type": "error",
     "traceback": [
      "\u001b[1;31m---------------------------------------------------------------------------\u001b[0m",
      "\u001b[1;31mValueError\u001b[0m                                Traceback (most recent call last)",
      "Cell \u001b[1;32mIn [14], line 2\u001b[0m\n\u001b[0;32m      1\u001b[0m gcm_precip \u001b[38;5;241m=\u001b[39m gcm\u001b[38;5;241m.\u001b[39mpr\u001b[38;5;241m.\u001b[39mto_numpy() \u001b[38;5;241m*\u001b[39m (\u001b[38;5;241m60\u001b[39m \u001b[38;5;241m*\u001b[39m \u001b[38;5;241m60\u001b[39m \u001b[38;5;241m*\u001b[39m \u001b[38;5;241m24\u001b[39m)\n\u001b[1;32m----> 2\u001b[0m \u001b[43mdata\u001b[49m\u001b[43m[\u001b[49m\u001b[38;5;124;43m'\u001b[39;49m\u001b[38;5;124;43mgcm_precip\u001b[39;49m\u001b[38;5;124;43m'\u001b[39;49m\u001b[43m]\u001b[49m \u001b[38;5;241m=\u001b[39m gcm_precip\n",
      "File \u001b[1;32m~\\projects\\gcm-project\\gcm-downscaling\\env\\lib\\site-packages\\pandas\\core\\frame.py:3977\u001b[0m, in \u001b[0;36mDataFrame.__setitem__\u001b[1;34m(self, key, value)\u001b[0m\n\u001b[0;32m   3974\u001b[0m     \u001b[38;5;28mself\u001b[39m\u001b[38;5;241m.\u001b[39m_setitem_array([key], value)\n\u001b[0;32m   3975\u001b[0m \u001b[38;5;28;01melse\u001b[39;00m:\n\u001b[0;32m   3976\u001b[0m     \u001b[38;5;66;03m# set column\u001b[39;00m\n\u001b[1;32m-> 3977\u001b[0m     \u001b[38;5;28;43mself\u001b[39;49m\u001b[38;5;241;43m.\u001b[39;49m\u001b[43m_set_item\u001b[49m\u001b[43m(\u001b[49m\u001b[43mkey\u001b[49m\u001b[43m,\u001b[49m\u001b[43m \u001b[49m\u001b[43mvalue\u001b[49m\u001b[43m)\u001b[49m\n",
      "File \u001b[1;32m~\\projects\\gcm-project\\gcm-downscaling\\env\\lib\\site-packages\\pandas\\core\\frame.py:4171\u001b[0m, in \u001b[0;36mDataFrame._set_item\u001b[1;34m(self, key, value)\u001b[0m\n\u001b[0;32m   4161\u001b[0m \u001b[38;5;28;01mdef\u001b[39;00m \u001b[38;5;21m_set_item\u001b[39m(\u001b[38;5;28mself\u001b[39m, key, value) \u001b[38;5;241m-\u001b[39m\u001b[38;5;241m>\u001b[39m \u001b[38;5;28;01mNone\u001b[39;00m:\n\u001b[0;32m   4162\u001b[0m     \u001b[38;5;124;03m\"\"\"\u001b[39;00m\n\u001b[0;32m   4163\u001b[0m \u001b[38;5;124;03m    Add series to DataFrame in specified column.\u001b[39;00m\n\u001b[0;32m   4164\u001b[0m \n\u001b[1;32m   (...)\u001b[0m\n\u001b[0;32m   4169\u001b[0m \u001b[38;5;124;03m    ensure homogeneity.\u001b[39;00m\n\u001b[0;32m   4170\u001b[0m \u001b[38;5;124;03m    \"\"\"\u001b[39;00m\n\u001b[1;32m-> 4171\u001b[0m     value \u001b[38;5;241m=\u001b[39m \u001b[38;5;28;43mself\u001b[39;49m\u001b[38;5;241;43m.\u001b[39;49m\u001b[43m_sanitize_column\u001b[49m\u001b[43m(\u001b[49m\u001b[43mvalue\u001b[49m\u001b[43m)\u001b[49m\n\u001b[0;32m   4173\u001b[0m     \u001b[38;5;28;01mif\u001b[39;00m (\n\u001b[0;32m   4174\u001b[0m         key \u001b[38;5;129;01min\u001b[39;00m \u001b[38;5;28mself\u001b[39m\u001b[38;5;241m.\u001b[39mcolumns\n\u001b[0;32m   4175\u001b[0m         \u001b[38;5;129;01mand\u001b[39;00m value\u001b[38;5;241m.\u001b[39mndim \u001b[38;5;241m==\u001b[39m \u001b[38;5;241m1\u001b[39m\n\u001b[0;32m   4176\u001b[0m         \u001b[38;5;129;01mand\u001b[39;00m \u001b[38;5;129;01mnot\u001b[39;00m is_extension_array_dtype(value)\n\u001b[0;32m   4177\u001b[0m     ):\n\u001b[0;32m   4178\u001b[0m         \u001b[38;5;66;03m# broadcast across multiple columns if necessary\u001b[39;00m\n\u001b[0;32m   4179\u001b[0m         \u001b[38;5;28;01mif\u001b[39;00m \u001b[38;5;129;01mnot\u001b[39;00m \u001b[38;5;28mself\u001b[39m\u001b[38;5;241m.\u001b[39mcolumns\u001b[38;5;241m.\u001b[39mis_unique \u001b[38;5;129;01mor\u001b[39;00m \u001b[38;5;28misinstance\u001b[39m(\u001b[38;5;28mself\u001b[39m\u001b[38;5;241m.\u001b[39mcolumns, MultiIndex):\n",
      "File \u001b[1;32m~\\projects\\gcm-project\\gcm-downscaling\\env\\lib\\site-packages\\pandas\\core\\frame.py:4904\u001b[0m, in \u001b[0;36mDataFrame._sanitize_column\u001b[1;34m(self, value)\u001b[0m\n\u001b[0;32m   4901\u001b[0m     \u001b[38;5;28;01mreturn\u001b[39;00m _reindex_for_setitem(Series(value), \u001b[38;5;28mself\u001b[39m\u001b[38;5;241m.\u001b[39mindex)\n\u001b[0;32m   4903\u001b[0m \u001b[38;5;28;01mif\u001b[39;00m is_list_like(value):\n\u001b[1;32m-> 4904\u001b[0m     \u001b[43mcom\u001b[49m\u001b[38;5;241;43m.\u001b[39;49m\u001b[43mrequire_length_match\u001b[49m\u001b[43m(\u001b[49m\u001b[43mvalue\u001b[49m\u001b[43m,\u001b[49m\u001b[43m \u001b[49m\u001b[38;5;28;43mself\u001b[39;49m\u001b[38;5;241;43m.\u001b[39;49m\u001b[43mindex\u001b[49m\u001b[43m)\u001b[49m\n\u001b[0;32m   4905\u001b[0m \u001b[38;5;28;01mreturn\u001b[39;00m sanitize_array(value, \u001b[38;5;28mself\u001b[39m\u001b[38;5;241m.\u001b[39mindex, copy\u001b[38;5;241m=\u001b[39m\u001b[38;5;28;01mTrue\u001b[39;00m, allow_2d\u001b[38;5;241m=\u001b[39m\u001b[38;5;28;01mTrue\u001b[39;00m)\n",
      "File \u001b[1;32m~\\projects\\gcm-project\\gcm-downscaling\\env\\lib\\site-packages\\pandas\\core\\common.py:561\u001b[0m, in \u001b[0;36mrequire_length_match\u001b[1;34m(data, index)\u001b[0m\n\u001b[0;32m    557\u001b[0m \u001b[38;5;124;03m\"\"\"\u001b[39;00m\n\u001b[0;32m    558\u001b[0m \u001b[38;5;124;03mCheck the length of data matches the length of the index.\u001b[39;00m\n\u001b[0;32m    559\u001b[0m \u001b[38;5;124;03m\"\"\"\u001b[39;00m\n\u001b[0;32m    560\u001b[0m \u001b[38;5;28;01mif\u001b[39;00m \u001b[38;5;28mlen\u001b[39m(data) \u001b[38;5;241m!=\u001b[39m \u001b[38;5;28mlen\u001b[39m(index):\n\u001b[1;32m--> 561\u001b[0m     \u001b[38;5;28;01mraise\u001b[39;00m \u001b[38;5;167;01mValueError\u001b[39;00m(\n\u001b[0;32m    562\u001b[0m         \u001b[38;5;124m\"\u001b[39m\u001b[38;5;124mLength of values \u001b[39m\u001b[38;5;124m\"\u001b[39m\n\u001b[0;32m    563\u001b[0m         \u001b[38;5;124mf\u001b[39m\u001b[38;5;124m\"\u001b[39m\u001b[38;5;124m(\u001b[39m\u001b[38;5;132;01m{\u001b[39;00m\u001b[38;5;28mlen\u001b[39m(data)\u001b[38;5;132;01m}\u001b[39;00m\u001b[38;5;124m) \u001b[39m\u001b[38;5;124m\"\u001b[39m\n\u001b[0;32m    564\u001b[0m         \u001b[38;5;124m\"\u001b[39m\u001b[38;5;124mdoes not match length of index \u001b[39m\u001b[38;5;124m\"\u001b[39m\n\u001b[0;32m    565\u001b[0m         \u001b[38;5;124mf\u001b[39m\u001b[38;5;124m\"\u001b[39m\u001b[38;5;124m(\u001b[39m\u001b[38;5;132;01m{\u001b[39;00m\u001b[38;5;28mlen\u001b[39m(index)\u001b[38;5;132;01m}\u001b[39;00m\u001b[38;5;124m)\u001b[39m\u001b[38;5;124m\"\u001b[39m\n\u001b[0;32m    566\u001b[0m     )\n",
      "\u001b[1;31mValueError\u001b[0m: Length of values (732) does not match length of index (731)"
     ]
    }
   ],
   "source": [
    "gcm_precip = gcm.pr.to_numpy() * (60 * 60 * 24)\n",
    "data['gcm_precip'] = gcm_precip"
   ]
  },
  {
   "cell_type": "code",
   "execution_count": null,
   "id": "5ce94975-ffe2-45c3-be12-0ac25193f34b",
   "metadata": {},
   "outputs": [],
   "source": [
    "results_r = pandas.read_csv(\n",
    "    '../test-results/CanESM5/CanESM5_ssp126_pr_1_bootstrap.csv',\n",
    "    parse_dates={'date': ['simYear', 'simMonth', 'simDay']})\n",
    "results_r.set_index('date', inplace=True)"
   ]
  },
  {
   "cell_type": "code",
   "execution_count": null,
   "id": "87e174e1-e166-48d0-b7b6-b54db310c0f9",
   "metadata": {},
   "outputs": [],
   "source": [
    "dd = pandas.merge(data, results_r['bs_value'], left_index=True, right_index=True, how='left')"
   ]
  },
  {
   "cell_type": "code",
   "execution_count": null,
   "id": "6eeb98d8-bab4-48b6-9e34-821bc5ec2773",
   "metadata": {},
   "outputs": [],
   "source": [
    "dd.rename({\n",
    "    'historic_precip': 'python_prediction',\n",
    "    'bs_value': 'R_prediction',\n",
    "    'gcm_precip': 'GCM_prediction'\n",
    "}, axis=1, inplace=True)"
   ]
  },
  {
   "cell_type": "code",
   "execution_count": null,
   "id": "0b718c46-7280-46b4-9d6e-ece18e3eb692",
   "metadata": {},
   "outputs": [],
   "source": [
    "pal = seaborn.color_palette(\"deep\")\n",
    "dd[['python_prediction', 'R_prediction', 'GCM_prediction']].plot(\n",
    "    xlim=('2023-01-01', '2024-07-01'),\n",
    "    color=[pal[0], pal[1], pal[2]],\n",
    "    linewidth=1,\n",
    "    figsize=figsize)"
   ]
  },
  {
   "cell_type": "code",
   "execution_count": null,
   "id": "25ab210b-9b46-4655-b9d2-a478f3553300",
   "metadata": {},
   "outputs": [],
   "source": [
    "# seaborn.color_palette('deep')"
   ]
  },
  {
   "cell_type": "code",
   "execution_count": null,
   "id": "cfce2b6a-3e84-4be9-8a97-a3a93aa2302b",
   "metadata": {},
   "outputs": [],
   "source": [
    "dd['python_prediction'].hist(bins=100)"
   ]
  },
  {
   "cell_type": "code",
   "execution_count": null,
   "id": "37116611-d699-46ba-a104-8c255ffa15a7",
   "metadata": {},
   "outputs": [],
   "source": [
    "dd['R_prediction'].hist(bins=100)"
   ]
  },
  {
   "cell_type": "code",
   "execution_count": null,
   "id": "1f6f4435-afd1-4357-b564-b89dd97ba2d0",
   "metadata": {},
   "outputs": [],
   "source": []
  }
 ],
 "metadata": {
  "kernelspec": {
   "display_name": "Python 3 (ipykernel)",
   "language": "python",
   "name": "python3"
  },
  "language_info": {
   "codemirror_mode": {
    "name": "ipython",
    "version": 3
   },
   "file_extension": ".py",
   "mimetype": "text/x-python",
   "name": "python",
   "nbconvert_exporter": "python",
   "pygments_lexer": "ipython3",
   "version": "3.10.6"
  }
 },
 "nbformat": 4,
 "nbformat_minor": 5
}
